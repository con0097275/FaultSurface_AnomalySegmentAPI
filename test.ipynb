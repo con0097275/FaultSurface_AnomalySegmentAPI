version https://git-lfs.github.com/spec/v1
oid sha256:b118e8738753985b2ed8f19bf4421ae3569c6418fde55232b7cbf6b44749be3a
size 234494
